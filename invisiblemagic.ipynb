{
 "cells": [
  {
   "cell_type": "code",
   "execution_count": 1,
   "metadata": {},
   "outputs": [],
   "source": [
    "import cv2\n",
    "import time\n",
    "import numpy as np\n",
    "\n",
    "fourcc= cv2.VideoWriter_fourcc(*'XVID')\n",
    "out=cv2.VideoWriter('output.avi',fourcc,20.0, (640,480))\n",
    "\n",
    "cap=cv2.VideoCapture(\"video.mp4\")\n",
    "time.sleep(1)\n",
    "count=0\n",
    "background=0\n",
    "\n",
    "for i in range(60):\n",
    "    ret,background=cap.read()\n",
    "background=np.flip(background, axis=1)\n",
    "\n",
    "\n",
    "while (cap.isOpened()):\n",
    "    ret,img=cap.read()\n",
    "    if not ret:\n",
    "        break\n",
    "    count+=1\n",
    "    img=np.flip(img,axis=1)\n",
    "    hsv=cv2.cvtColor(img, cv2.COLOR_BGR2HSV)\n",
    "    \n",
    "    lower_red=np.array([0,120,70])\n",
    "    upper_red=np.array([9,255,255])\n",
    "    mask1=cv2.inRange(hsv,lower_red,upper_red)\n",
    "    \n",
    "    lower_red=np.array([171,120,70])\n",
    "    upper_red=np.array([180,255,255])\n",
    "    mask2=cv2.inRange(hsv,lower_red,upper_red)\n",
    "    \n",
    "    mask1=mask1+mask2\n",
    "    mask1=cv2.morphologyEx(mask1, cv2.MORPH_OPEN,np.ones((3,3),np.uint8))\n",
    "    mask1=cv2.morphologyEx(mask1, cv2.MORPH_DILATE,np.ones((3,3),np.uint8))\n",
    "    \n",
    "    mask2=cv2.bitwise_not(mask1)\n",
    "    res1=cv2.bitwise_and(img,img,mask=mask2)\n",
    "    res2=cv2.bitwise_and(background,background,mask=mask1)\n",
    "    \n",
    "    finalOutput=cv2.addWeighted(res1,1,res2,1,0)\n",
    "    out.write(finalOutput)\n",
    "    cv2.imshow(\"magic\",finalOutput)\n",
    "    cv2.waitKey(10)\n",
    "    \n",
    "cap.release()\n",
    "out.release()\n",
    "cv2.destroyAllWindows()"
   ]
  },
  {
   "cell_type": "code",
   "execution_count": null,
   "metadata": {},
   "outputs": [],
   "source": []
  }
 ],
 "metadata": {
  "kernelspec": {
   "display_name": "Python 3",
   "language": "python",
   "name": "python3"
  },
  "varInspector": {
   "cols": {
    "lenName": 16,
    "lenType": 16,
    "lenVar": 40
   },
   "kernels_config": {
    "python": {
     "delete_cmd_postfix": "",
     "delete_cmd_prefix": "del ",
     "library": "var_list.py",
     "varRefreshCmd": "print(var_dic_list())"
    },
    "r": {
     "delete_cmd_postfix": ") ",
     "delete_cmd_prefix": "rm(",
     "library": "var_list.r",
     "varRefreshCmd": "cat(var_dic_list()) "
    }
   },
   "types_to_exclude": [
    "module",
    "function",
    "builtin_function_or_method",
    "instance",
    "_Feature"
   ],
   "window_display": false
  }
 },
 "nbformat": 4,
 "nbformat_minor": 2
}
